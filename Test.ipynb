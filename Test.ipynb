{
 "cells": [
  {
   "cell_type": "code",
   "execution_count": 1,
   "metadata": {},
   "outputs": [
    {
     "name": "stderr",
     "output_type": "stream",
     "text": [
      "C:\\Users\\Tiger\\anaconda3\\envs\\kakao\\lib\\site-packages\\mxnet\\optimizer\\optimizer.py:167: UserWarning: WARNING: New optimizer gluonnlp.optimizer.lamb.LAMB is overriding existing optimizer mxnet.optimizer.optimizer.LAMB\n",
      "  Optimizer.opt_registry[name].__name__))\n"
     ]
    },
    {
     "name": "stdout",
     "output_type": "stream",
     "text": [
      "using cached model\n",
      "using cached model\n"
     ]
    }
   ],
   "source": [
    "import re\n",
    "import numpy as np\n",
    "import pandas as pd\n",
    "\n",
    "import matplotlib.pyplot as plt\n",
    "import seaborn as sns\n",
    "\n",
    "import torch\n",
    "from torch import nn\n",
    "from torch.utils.data import Dataset, DataLoader\n",
    "\n",
    "import gluonnlp as nlp\n",
    "\n",
    "#kobert\n",
    "from kobert.utils import get_tokenizer\n",
    "from kobert.pytorch_kobert import get_pytorch_kobert_model\n",
    "\n",
    "#GPU 사용\n",
    "device = torch.device('cuda:0' if torch.cuda.is_available() else 'cpu')\n",
    "\n",
    "#BERT 모델, Vocabulary 불러오기\n",
    "bertmodel, vocab = get_pytorch_kobert_model()\n",
    "\n",
    "import warnings\n",
    "warnings.filterwarnings('ignore')"
   ]
  },
  {
   "cell_type": "code",
   "execution_count": 2,
   "metadata": {},
   "outputs": [],
   "source": [
    "class BERTDataset(Dataset):\n",
    "    def __init__(self, dataset, bert_tokenizer, args):\n",
    "        transform = nlp.data.BERTSentenceTransform(\n",
    "            bert_tokenizer, max_seq_length=args.max_len, pad=args.pad, pair=args.pair)\n",
    "\n",
    "        self.sentences = [transform([i]) for i in dataset]\n",
    "\n",
    "    def __getitem__(self, i):\n",
    "        return self.sentences[i]\n",
    "\n",
    "    def __len__(self):\n",
    "        return (len(self.sentences))"
   ]
  },
  {
   "cell_type": "code",
   "execution_count": 3,
   "metadata": {},
   "outputs": [],
   "source": [
    "class BERTClassifier(nn.Module):\n",
    "    def __init__(self, \n",
    "                 bert, \n",
    "                 hidden_size=768, \n",
    "                 num_classes=7,\n",
    "                 dr_rate=0.5,\n",
    "                 params=None):\n",
    "        super(BERTClassifier, self).__init__()\n",
    "        self.bert = bert\n",
    "        self.dr_rate = dr_rate\n",
    "                 \n",
    "        self.classifier = nn.Linear(hidden_size, num_classes)\n",
    "        if self.dr_rate:\n",
    "            self.dropout = nn.Dropout(p=self.dr_rate)\n",
    "    \n",
    "    def gen_attention_mask(self, token_ids, valid_length):\n",
    "        attention_mask = torch.zeros_like(token_ids)\n",
    "        for i, v in enumerate(valid_length):\n",
    "            attention_mask[i][:v] = 1\n",
    "        return attention_mask.float()\n",
    "\n",
    "    def forward(self, token_ids, valid_length, segment_ids):\n",
    "        attention_mask = self.gen_attention_mask(token_ids, valid_length)\n",
    "        \n",
    "        _, pooler = self.bert(input_ids = token_ids, token_type_ids = segment_ids.long(), attention_mask = attention_mask.float().to(token_ids.device))\n",
    "        if self.dr_rate:\n",
    "            out = self.dropout(pooler)\n",
    "        return self.classifier(out)"
   ]
  },
  {
   "cell_type": "code",
   "execution_count": 4,
   "metadata": {},
   "outputs": [],
   "source": [
    "def test(model, data_test, args):\n",
    "    test_dataloader = DataLoader(data_test, \n",
    "                                 batch_size=args.batch_size) #, num_workers=args.num_workers) \n",
    "\n",
    "    model.eval()\n",
    "    \n",
    "    current_preds = []\n",
    "    \n",
    "    with torch.no_grad():\n",
    "        for token_ids, valid_length, segment_ids in test_dataloader:\n",
    "            token_ids = token_ids.long().to(device)\n",
    "            segment_ids = segment_ids.long().to(device)\n",
    "            valid_length= valid_length\n",
    "            out = model(token_ids, valid_length, segment_ids)\n",
    "            \n",
    "            _, predicted = torch.max(out.data, 1)\n",
    "\n",
    "            current_preds.extend(predicted)\n",
    "            \n",
    "    return current_preds"
   ]
  },
  {
   "cell_type": "code",
   "execution_count": 5,
   "metadata": {},
   "outputs": [
    {
     "data": {
      "text/plain": [
       "<All keys matched successfully>"
      ]
     },
     "execution_count": 5,
     "metadata": {},
     "output_type": "execute_result"
    }
   ],
   "source": [
    "model = BERTClassifier(bertmodel).to(device)\n",
    "model.load_state_dict(torch.load('./weight/bert_2.pt'))"
   ]
  },
  {
   "cell_type": "code",
   "execution_count": 6,
   "metadata": {},
   "outputs": [
    {
     "name": "stdout",
     "output_type": "stream",
     "text": [
      "using cached model\n"
     ]
    }
   ],
   "source": [
    "import argparse\n",
    "from copy import deepcopy\n",
    "\n",
    "#토큰화\n",
    "tokenizer = get_tokenizer()\n",
    "tok = nlp.data.BERTSPTokenizer(tokenizer, vocab, lower=False)\n",
    "\n",
    "# ====== Random seed Initialization ====== #\n",
    "seed = 42\n",
    "np.random.seed(seed)\n",
    "torch.manual_seed(seed)\n",
    "\n",
    "parser = argparse.ArgumentParser()\n",
    "args = parser.parse_args(\"\")\n",
    "\n",
    "# Setting parameters\n",
    "args.max_len = 64\n",
    "args.pad = True\n",
    "args.pair = False\n",
    "\n",
    "args.num_workers = 4\n",
    "args.batch_size = 64"
   ]
  },
  {
   "cell_type": "code",
   "execution_count": 7,
   "metadata": {},
   "outputs": [],
   "source": [
    "def pre(file_name):\n",
    "    \n",
    "    # 데이터 전처리\n",
    "    name_list = []\n",
    "    time_list = []\n",
    "    chat_list = []\n",
    "\n",
    "    with open(f'./data/{file_name}.txt', 'r', encoding='UTF-8') as f:\n",
    "        for line in f.readlines():\n",
    "            line = line[:-1]\n",
    "            patt = r'] '\n",
    "            spl = re.split(patt, line, maxsplit=2)\n",
    "            if len(spl) == 3:\n",
    "                name_list.append(spl[0][1:])\n",
    "                time_list.append(spl[1][1:])\n",
    "                chat_list.append(spl[2])\n",
    "            elif len(spl) == 1 and len(spl[0]) != 0:\n",
    "                if len(name_list) != 0:\n",
    "                    name_list.append(name_list[-1])\n",
    "                    time_list.append(time_list[-1])\n",
    "                    chat_list.append(spl[0])\n",
    "    f.close()\n",
    "\n",
    "    # 데이터 프레임 생성\n",
    "    data = pd.DataFrame()\n",
    "    data['Name'] = name_list\n",
    "    data['Time'] = time_list\n",
    "    data['Chat'] = chat_list\n",
    "\n",
    "    # 이름 제거\n",
    "    names = data['Name'].unique()\n",
    "    for i, n in enumerate(names):\n",
    "        data.loc[(data['Name'] == n), 'Name'] = i\n",
    "    \n",
    "    return data"
   ]
  },
  {
   "cell_type": "code",
   "execution_count": 8,
   "metadata": {},
   "outputs": [],
   "source": [
    "def analy(data, name):\n",
    "    # 감정 분석\n",
    "    target = data['Chat'].tolist()\n",
    "    data_test = BERTDataset(target, tok, args)\n",
    "    pred_list = test(model, data_test, args)\n",
    "    \n",
    "    # 한글화\n",
    "    emo = []\n",
    "    p_l = []\n",
    "    for e in pred_list:\n",
    "        a = e.to('cpu').numpy()\n",
    "        emo.append(a)\n",
    "    \n",
    "        if a == 0:\n",
    "            a = '공포'\n",
    "        elif a == 1:\n",
    "            a = '놀람'\n",
    "        elif a == 2:\n",
    "            a = '분노'\n",
    "        elif a == 3:\n",
    "            a = '슬픔'\n",
    "        elif a == 4:\n",
    "            a = '중립'\n",
    "        elif a == 5:\n",
    "            a = '행복'\n",
    "        elif a == 6:\n",
    "            a = '혐오'\n",
    "        p_l.append(a)\n",
    "        \n",
    "    data['Emotion'] = p_l\n",
    "    \n",
    "    isolation_dict = {}\n",
    "    \n",
    "    for i, n in enumerate(data['Name']):\n",
    "        if n not in isolation_dict.keys():\n",
    "            isolation_dict[n] = [0,0,0, 0,0,0, 0]\n",
    "            \n",
    "        isolation_dict[n][emo[i]] += 1\n",
    "          \n",
    "    return data, isolation_dict"
   ]
  },
  {
   "cell_type": "code",
   "execution_count": 9,
   "metadata": {},
   "outputs": [],
   "source": [
    "file_name = 'emotion_tolk'\n",
    "all_chat = pre(file_name)"
   ]
  },
  {
   "cell_type": "code",
   "execution_count": 10,
   "metadata": {},
   "outputs": [],
   "source": [
    "names = all_chat['Name'][:20].unique()\n",
    "data, res = analy(all_chat, names)"
   ]
  },
  {
   "cell_type": "code",
   "execution_count": 11,
   "metadata": {},
   "outputs": [
    {
     "data": {
      "text/html": [
       "<div>\n",
       "<style scoped>\n",
       "    .dataframe tbody tr th:only-of-type {\n",
       "        vertical-align: middle;\n",
       "    }\n",
       "\n",
       "    .dataframe tbody tr th {\n",
       "        vertical-align: top;\n",
       "    }\n",
       "\n",
       "    .dataframe thead th {\n",
       "        text-align: right;\n",
       "    }\n",
       "</style>\n",
       "<table border=\"1\" class=\"dataframe\">\n",
       "  <thead>\n",
       "    <tr style=\"text-align: right;\">\n",
       "      <th></th>\n",
       "      <th>Name</th>\n",
       "      <th>Time</th>\n",
       "      <th>Chat</th>\n",
       "      <th>Emotion</th>\n",
       "    </tr>\n",
       "  </thead>\n",
       "  <tbody>\n",
       "    <tr>\n",
       "      <th>0</th>\n",
       "      <td>0</td>\n",
       "      <td>오후 4:29</td>\n",
       "      <td>네</td>\n",
       "      <td>중립</td>\n",
       "    </tr>\n",
       "    <tr>\n",
       "      <th>1</th>\n",
       "      <td>0</td>\n",
       "      <td>오후 4:29</td>\n",
       "      <td>쨘</td>\n",
       "      <td>슬픔</td>\n",
       "    </tr>\n",
       "    <tr>\n",
       "      <th>2</th>\n",
       "      <td>0</td>\n",
       "      <td>오후 4:29</td>\n",
       "      <td>뿅</td>\n",
       "      <td>슬픔</td>\n",
       "    </tr>\n",
       "    <tr>\n",
       "      <th>3</th>\n",
       "      <td>1</td>\n",
       "      <td>오후 4:30</td>\n",
       "      <td>사진 찍어서 보내주께!ㅋㅋ</td>\n",
       "      <td>행복</td>\n",
       "    </tr>\n",
       "    <tr>\n",
       "      <th>4</th>\n",
       "      <td>1</td>\n",
       "      <td>오후 4:30</td>\n",
       "      <td>시러할수도 있으니까</td>\n",
       "      <td>공포</td>\n",
       "    </tr>\n",
       "    <tr>\n",
       "      <th>...</th>\n",
       "      <td>...</td>\n",
       "      <td>...</td>\n",
       "      <td>...</td>\n",
       "      <td>...</td>\n",
       "    </tr>\n",
       "    <tr>\n",
       "      <th>4490</th>\n",
       "      <td>1</td>\n",
       "      <td>오후 9:30</td>\n",
       "      <td>오늘도 고생했어~ 좋은밤 보내!!^,^</td>\n",
       "      <td>행복</td>\n",
       "    </tr>\n",
       "    <tr>\n",
       "      <th>4491</th>\n",
       "      <td>0</td>\n",
       "      <td>오후 11:20</td>\n",
       "      <td>배불러서 또 못 자네</td>\n",
       "      <td>혐오</td>\n",
       "    </tr>\n",
       "    <tr>\n",
       "      <th>4492</th>\n",
       "      <td>0</td>\n",
       "      <td>오후 11:20</td>\n",
       "      <td>--------------- 2021년 12월 1일 수요일 ---------------</td>\n",
       "      <td>놀람</td>\n",
       "    </tr>\n",
       "    <tr>\n",
       "      <th>4493</th>\n",
       "      <td>1</td>\n",
       "      <td>오전 12:24</td>\n",
       "      <td>굿나잇</td>\n",
       "      <td>행복</td>\n",
       "    </tr>\n",
       "    <tr>\n",
       "      <th>4494</th>\n",
       "      <td>1</td>\n",
       "      <td>오전 12:24</td>\n",
       "      <td>이모티</td>\n",
       "      <td>놀람</td>\n",
       "    </tr>\n",
       "  </tbody>\n",
       "</table>\n",
       "<p>4495 rows × 4 columns</p>\n",
       "</div>"
      ],
      "text/plain": [
       "     Name      Time                                              Chat Emotion\n",
       "0       0   오후 4:29                                                 네      중립\n",
       "1       0   오후 4:29                                                 쨘      슬픔\n",
       "2       0   오후 4:29                                                 뿅      슬픔\n",
       "3       1   오후 4:30                                    사진 찍어서 보내주께!ㅋㅋ      행복\n",
       "4       1   오후 4:30                                       시러할수도 있으니까       공포\n",
       "...   ...       ...                                               ...     ...\n",
       "4490    1   오후 9:30                             오늘도 고생했어~ 좋은밤 보내!!^,^      행복\n",
       "4491    0  오후 11:20                                       배불러서 또 못 자네      혐오\n",
       "4492    0  오후 11:20  --------------- 2021년 12월 1일 수요일 ---------------      놀람\n",
       "4493    1  오전 12:24                                               굿나잇      행복\n",
       "4494    1  오전 12:24                                               이모티      놀람\n",
       "\n",
       "[4495 rows x 4 columns]"
      ]
     },
     "execution_count": 11,
     "metadata": {},
     "output_type": "execute_result"
    },
    {
     "data": {
      "image/png": "[encoded data removed]",
      "text/plain": [
       "<Figure size 576x288 with 1 Axes>"
      ]
     },
     "metadata": {
      "needs_background": "light"
     },
     "output_type": "display_data"
    }
   ],
   "source": [
    "plt.rcParams['axes.unicode_minus'] = False\n",
    "plt.rcParams['font.family'] = 'Malgun Gothic'\n",
    "\n",
    "plt.figure(figsize=(8,4))\n",
    "ax = sns.histplot(data=data, x='Emotion', hue='Name', multiple=\"dodge\", shrink=.8, palette='pastel')\n",
    "data"
   ]
  },
  {
   "cell_type": "code",
   "execution_count": 12,
   "metadata": {},
   "outputs": [],
   "source": [
    "file_name = 'ekaud'\n",
    "all_chat = pre(file_name)"
   ]
  },
  {
   "cell_type": "code",
   "execution_count": 13,
   "metadata": {},
   "outputs": [],
   "source": [
    "names = all_chat['Name'].unique()\n",
    "data, res = analy(all_chat, names)"
   ]
  },
  {
   "cell_type": "code",
   "execution_count": 14,
   "metadata": {},
   "outputs": [
    {
     "data": {
      "text/html": [
       "<div>\n",
       "<style scoped>\n",
       "    .dataframe tbody tr th:only-of-type {\n",
       "        vertical-align: middle;\n",
       "    }\n",
       "\n",
       "    .dataframe tbody tr th {\n",
       "        vertical-align: top;\n",
       "    }\n",
       "\n",
       "    .dataframe thead th {\n",
       "        text-align: right;\n",
       "    }\n",
       "</style>\n",
       "<table border=\"1\" class=\"dataframe\">\n",
       "  <thead>\n",
       "    <tr style=\"text-align: right;\">\n",
       "      <th></th>\n",
       "      <th>Name</th>\n",
       "      <th>Time</th>\n",
       "      <th>Chat</th>\n",
       "      <th>Emotion</th>\n",
       "    </tr>\n",
       "  </thead>\n",
       "  <tbody>\n",
       "    <tr>\n",
       "      <th>0</th>\n",
       "      <td>0</td>\n",
       "      <td>오전 9:42</td>\n",
       "      <td>나왔다 임마</td>\n",
       "      <td>중립</td>\n",
       "    </tr>\n",
       "    <tr>\n",
       "      <th>1</th>\n",
       "      <td>1</td>\n",
       "      <td>오전 9:43</td>\n",
       "      <td>(컴온)</td>\n",
       "      <td>놀람</td>\n",
       "    </tr>\n",
       "    <tr>\n",
       "      <th>2</th>\n",
       "      <td>1</td>\n",
       "      <td>오전 9:43</td>\n",
       "      <td>다 들어오면 천천히 일자를 정해보세</td>\n",
       "      <td>중립</td>\n",
       "    </tr>\n",
       "    <tr>\n",
       "      <th>3</th>\n",
       "      <td>0</td>\n",
       "      <td>오전 9:44</td>\n",
       "      <td>11월19일</td>\n",
       "      <td>중립</td>\n",
       "    </tr>\n",
       "    <tr>\n",
       "      <th>4</th>\n",
       "      <td>0</td>\n",
       "      <td>오전 9:44</td>\n",
       "      <td>18일부터 추가접종백신휴가다</td>\n",
       "      <td>중립</td>\n",
       "    </tr>\n",
       "    <tr>\n",
       "      <th>...</th>\n",
       "      <td>...</td>\n",
       "      <td>...</td>\n",
       "      <td>...</td>\n",
       "      <td>...</td>\n",
       "    </tr>\n",
       "    <tr>\n",
       "      <th>357</th>\n",
       "      <td>0</td>\n",
       "      <td>오후 6:34</td>\n",
       "      <td>왠만하면 애들에게 붙게</td>\n",
       "      <td>분노</td>\n",
       "    </tr>\n",
       "    <tr>\n",
       "      <th>358</th>\n",
       "      <td>2</td>\n",
       "      <td>오후 7:42</td>\n",
       "      <td>난 12일 조조로 가야지 ㅋㅋ</td>\n",
       "      <td>중립</td>\n",
       "    </tr>\n",
       "    <tr>\n",
       "      <th>359</th>\n",
       "      <td>1</td>\n",
       "      <td>오후 7:57</td>\n",
       "      <td>금토일 주말은 피할래</td>\n",
       "      <td>중립</td>\n",
       "    </tr>\n",
       "    <tr>\n",
       "      <th>360</th>\n",
       "      <td>2</td>\n",
       "      <td>오후 8:01</td>\n",
       "      <td>난 어쩔 수 없으니 머 ㅋㅋ</td>\n",
       "      <td>행복</td>\n",
       "    </tr>\n",
       "    <tr>\n",
       "      <th>361</th>\n",
       "      <td>5</td>\n",
       "      <td>오후 11:50</td>\n",
       "      <td>금요일도 사람 많아?</td>\n",
       "      <td>중립</td>\n",
       "    </tr>\n",
       "  </tbody>\n",
       "</table>\n",
       "<p>362 rows × 4 columns</p>\n",
       "</div>"
      ],
      "text/plain": [
       "    Name      Time                 Chat Emotion\n",
       "0      0   오전 9:42               나왔다 임마      중립\n",
       "1      1   오전 9:43                 (컴온)      놀람\n",
       "2      1   오전 9:43  다 들어오면 천천히 일자를 정해보세      중립\n",
       "3      0   오전 9:44               11월19일      중립\n",
       "4      0   오전 9:44      18일부터 추가접종백신휴가다      중립\n",
       "..   ...       ...                  ...     ...\n",
       "357    0   오후 6:34         왠만하면 애들에게 붙게      분노\n",
       "358    2   오후 7:42     난 12일 조조로 가야지 ㅋㅋ      중립\n",
       "359    1   오후 7:57          금토일 주말은 피할래      중립\n",
       "360    2   오후 8:01      난 어쩔 수 없으니 머 ㅋㅋ      행복\n",
       "361    5  오후 11:50          금요일도 사람 많아?      중립\n",
       "\n",
       "[362 rows x 4 columns]"
      ]
     },
     "execution_count": 14,
     "metadata": {},
     "output_type": "execute_result"
    },
    {
     "data": {
      "image/png": "[encoded data removed]",
      "text/plain": [
       "<Figure size 576x288 with 1 Axes>"
      ]
     },
     "metadata": {
      "needs_background": "light"
     },
     "output_type": "display_data"
    }
   ],
   "source": [
    "plt.rcParams['axes.unicode_minus'] = False\n",
    "plt.rcParams['font.family'] = 'Malgun Gothic'\n",
    "\n",
    "plt.figure(figsize=(8,4))\n",
    "ax = sns.histplot(data=data, x='Emotion', hue='Name', multiple=\"dodge\", shrink=.8, palette='pastel')\n",
    "data"
   ]
  },
  {
   "cell_type": "code",
   "execution_count": 15,
   "metadata": {},
   "outputs": [
    {
     "data": {
      "text/plain": [
       "{0: [1, 5, 1, 0, 11, 3, 1],\n",
       " 1: [3, 5, 0, 3, 14, 5, 0],\n",
       " 2: [7, 22, 4, 9, 55, 16, 7],\n",
       " 3: [1, 0, 0, 1, 2, 4, 0],\n",
       " 4: [4, 12, 1, 2, 8, 12, 2],\n",
       " 5: [0, 7, 0, 4, 11, 8, 1],\n",
       " 6: [1, 5, 1, 4, 27, 2, 0],\n",
       " 7: [2, 10, 0, 6, 27, 8, 3],\n",
       " 8: [1, 1, 2, 0, 4, 2, 0],\n",
       " 9: [0, 0, 0, 2, 2, 0, 0]}"
      ]
     },
     "execution_count": 15,
     "metadata": {},
     "output_type": "execute_result"
    }
   ],
   "source": [
    "res"
   ]
  },
  {
   "cell_type": "code",
   "execution_count": 16,
   "metadata": {},
   "outputs": [],
   "source": [
    "file_name = '431_group'\n",
    "all_chat = pre(file_name)"
   ]
  },
  {
   "cell_type": "code",
   "execution_count": 17,
   "metadata": {},
   "outputs": [],
   "source": [
    "names = all_chat['Name'].unique()\n",
    "data, res = analy(all_chat, names)"
   ]
  },
  {
   "cell_type": "code",
   "execution_count": 18,
   "metadata": {},
   "outputs": [
    {
     "name": "stderr",
     "output_type": "stream",
     "text": [
      "No artists with labels found to put in legend.  Note that artists whose label start with an underscore are ignored when legend() is called with no argument.\n"
     ]
    },
    {
     "data": {
      "text/html": [
       "<div>\n",
       "<style scoped>\n",
       "    .dataframe tbody tr th:only-of-type {\n",
       "        vertical-align: middle;\n",
       "    }\n",
       "\n",
       "    .dataframe tbody tr th {\n",
       "        vertical-align: top;\n",
       "    }\n",
       "\n",
       "    .dataframe thead th {\n",
       "        text-align: right;\n",
       "    }\n",
       "</style>\n",
       "<table border=\"1\" class=\"dataframe\">\n",
       "  <thead>\n",
       "    <tr style=\"text-align: right;\">\n",
       "      <th></th>\n",
       "      <th>Name</th>\n",
       "      <th>Time</th>\n",
       "      <th>Chat</th>\n",
       "      <th>Emotion</th>\n",
       "    </tr>\n",
       "  </thead>\n",
       "  <tbody>\n",
       "    <tr>\n",
       "      <th>0</th>\n",
       "      <td>0</td>\n",
       "      <td>오전 9:03</td>\n",
       "      <td>위유 좋지 ~</td>\n",
       "      <td>중립</td>\n",
       "    </tr>\n",
       "    <tr>\n",
       "      <th>1</th>\n",
       "      <td>1</td>\n",
       "      <td>오전 9:23</td>\n",
       "      <td>나 안쓰는 받침대 있는데 주까?ㅋㅋ 회사에 안쓰는거 있는데 가져다주께ㅋㅋ</td>\n",
       "      <td>행복</td>\n",
       "    </tr>\n",
       "    <tr>\n",
       "      <th>2</th>\n",
       "      <td>2</td>\n",
       "      <td>오전 9:24</td>\n",
       "      <td>응</td>\n",
       "      <td>중립</td>\n",
       "    </tr>\n",
       "    <tr>\n",
       "      <th>3</th>\n",
       "      <td>2</td>\n",
       "      <td>오전 9:24</td>\n",
       "      <td>응응 !</td>\n",
       "      <td>중립</td>\n",
       "    </tr>\n",
       "    <tr>\n",
       "      <th>4</th>\n",
       "      <td>2</td>\n",
       "      <td>오전 9:24</td>\n",
       "      <td>난 공짜에 눈이 멀었드아-!!</td>\n",
       "      <td>분노</td>\n",
       "    </tr>\n",
       "    <tr>\n",
       "      <th>...</th>\n",
       "      <td>...</td>\n",
       "      <td>...</td>\n",
       "      <td>...</td>\n",
       "      <td>...</td>\n",
       "    </tr>\n",
       "    <tr>\n",
       "      <th>216453</th>\n",
       "      <td>56</td>\n",
       "      <td>오전 8:22</td>\n",
       "      <td>어리면 근냥 애기지..</td>\n",
       "      <td>혐오</td>\n",
       "    </tr>\n",
       "    <tr>\n",
       "      <th>216454</th>\n",
       "      <td>56</td>\n",
       "      <td>오전 8:22</td>\n",
       "      <td>이모티콘</td>\n",
       "      <td>중립</td>\n",
       "    </tr>\n",
       "    <tr>\n",
       "      <th>216455</th>\n",
       "      <td>13</td>\n",
       "      <td>오전 8:24</td>\n",
       "      <td>이모티콘</td>\n",
       "      <td>중립</td>\n",
       "    </tr>\n",
       "    <tr>\n",
       "      <th>216456</th>\n",
       "      <td>16</td>\n",
       "      <td>오전 8:30</td>\n",
       "      <td>ㅋㅋㅋㅋㅋ</td>\n",
       "      <td>행복</td>\n",
       "    </tr>\n",
       "    <tr>\n",
       "      <th>216457</th>\n",
       "      <td>4</td>\n",
       "      <td>오전 8:30</td>\n",
       "      <td>늘그면 뇐네고</td>\n",
       "      <td>혐오</td>\n",
       "    </tr>\n",
       "  </tbody>\n",
       "</table>\n",
       "<p>216458 rows × 4 columns</p>\n",
       "</div>"
      ],
      "text/plain": [
       "       Name     Time                                      Chat Emotion\n",
       "0         0  오전 9:03                                   위유 좋지 ~      중립\n",
       "1         1  오전 9:23  나 안쓰는 받침대 있는데 주까?ㅋㅋ 회사에 안쓰는거 있는데 가져다주께ㅋㅋ      행복\n",
       "2         2  오전 9:24                                         응      중립\n",
       "3         2  오전 9:24                                      응응 !      중립\n",
       "4         2  오전 9:24                          난 공짜에 눈이 멀었드아-!!      분노\n",
       "...     ...      ...                                       ...     ...\n",
       "216453   56  오전 8:22                              어리면 근냥 애기지..      혐오\n",
       "216454   56  오전 8:22                                      이모티콘      중립\n",
       "216455   13  오전 8:24                                      이모티콘      중립\n",
       "216456   16  오전 8:30                                     ㅋㅋㅋㅋㅋ      행복\n",
       "216457    4  오전 8:30                                   늘그면 뇐네고      혐오\n",
       "\n",
       "[216458 rows x 4 columns]"
      ]
     },
     "execution_count": 18,
     "metadata": {},
     "output_type": "execute_result"
    },
    {
     "data": {
      "image/png": "[encoded data removed]",
      "text/plain": [
       "<Figure size 1296x288 with 1 Axes>"
      ]
     },
     "metadata": {
      "needs_background": "light"
     },
     "output_type": "display_data"
    }
   ],
   "source": [
    "plt.figure(figsize=(18,4))\n",
    "ax = sns.histplot(data=data, x='Emotion', hue='Name', multiple=\"dodge\", shrink=.8, palette='pastel')\n",
    "plt.legend()\n",
    "data"
   ]
  },
  {
   "cell_type": "code",
   "execution_count": null,
   "metadata": {},
   "outputs": [],
   "source": [
    "next_chat_list = []\n",
    "for _ in data['Name'].unique():\n",
    "    next_chat_list.append({})\n",
    "    \n",
    "last_name = 0\n",
    "\n",
    "for i, name in enumerate(data.iloc[:-1]['Name']):\n",
    "    if data.iloc[i+1]['Name'] is not name:\n",
    "        last_name = name\n",
    "        if data.iloc[i+1]['Name'] not in next_chat_list[last_name].keys():\n",
    "            next_chat_list[last_name][data.iloc[i+1]['Name']] = [0,0,0, 0,0,0, 0]\n",
    "            \n",
    "    if data.iloc[i+1]['Emotion'] == '공포':\n",
    "        next_chat_list[last_name][data.iloc[i+1]['Name']][0] += 1\n",
    "    elif data.iloc[i+1]['Emotion'] == '놀람':\n",
    "        next_chat_list[last_name][data.iloc[i+1]['Name']][1] += 1\n",
    "    elif data.iloc[i+1]['Emotion'] == '분노':\n",
    "        next_chat_list[last_name][data.iloc[i+1]['Name']][2] += 1\n",
    "    elif data.iloc[i+1]['Emotion'] == '슬픔':\n",
    "        next_chat_list[last_name][data.iloc[i+1]['Name']][3] += 1\n",
    "    elif data.iloc[i+1]['Emotion'] == '중립':\n",
    "        next_chat_list[last_name][data.iloc[i+1]['Name']][4] += 1\n",
    "    elif data.iloc[i+1]['Emotion'] == '행복':\n",
    "        next_chat_list[last_name][data.iloc[i+1]['Name']][5] += 1\n",
    "    elif data.iloc[i+1]['Emotion'] == '혐오':\n",
    "        next_chat_list[last_name][data.iloc[i+1]['Name']][6] += 1"
   ]
  },
  {
   "cell_type": "code",
   "execution_count": 20,
   "metadata": {},
   "outputs": [
    {
     "data": {
      "text/plain": [
       "([[200, 1242, 69, 581, 1649, 2410, 393],\n",
       "  [356, 1393, 347, 1055, 5454, 1313, 496]],\n",
       " [6544, 10414])"
      ]
     },
     "execution_count": 20,
     "metadata": {},
     "output_type": "execute_result"
    }
   ],
   "source": [
    "ext = [res[1], res[2]]\n",
    "tot = []\n",
    "\n",
    "for i in ext:\n",
    "    sum = 0\n",
    "    for j in i:\n",
    "        sum += j\n",
    "    tot.append(sum)\n",
    "ext, tot"
   ]
  },
  {
   "cell_type": "code",
   "execution_count": 21,
   "metadata": {},
   "outputs": [
    {
     "data": {
      "text/plain": [
       "([21, 106, 6, 46, 139, 191, 35], [25, 91, 21, 67, 347, 90, 32])"
      ]
     },
     "execution_count": 21,
     "metadata": {},
     "output_type": "execute_result"
    }
   ],
   "source": [
    "next_chat_list[2][1], next_chat_list[1][2]"
   ]
  },
  {
   "cell_type": "code",
   "execution_count": 22,
   "metadata": {},
   "outputs": [
    {
     "data": {
      "text/plain": [
       "(array([653]), array([657]))"
      ]
     },
     "execution_count": 22,
     "metadata": {},
     "output_type": "execute_result"
    }
   ],
   "source": [
    "# 공포(+1), 놀람(+1), 분노(-1), 슬픔(+1), 중립(+1), 행복(+2), 혐오(-1)\n",
    "emotion_weight = np.transpose([[1,1,-1,1,1,2,-1]])\n",
    "np.dot(next_chat_list[2][1], emotion_weight), np.dot(next_chat_list[1][2], emotion_weight) "
   ]
  },
  {
   "cell_type": "code",
   "execution_count": 23,
   "metadata": {},
   "outputs": [
    {
     "data": {
      "text/plain": [
       "([[496, 2826, 412, 1166, 6602, 3806, 1382],\n",
       "  [356, 1393, 347, 1055, 5454, 1313, 496]],\n",
       " [16690, 10414])"
      ]
     },
     "execution_count": 23,
     "metadata": {},
     "output_type": "execute_result"
    }
   ],
   "source": [
    "ext = [res[6], res[2]]\n",
    "tot = []\n",
    "\n",
    "for i in ext:\n",
    "    sum = 0\n",
    "    for j in i:\n",
    "        sum += j\n",
    "    tot.append(sum)\n",
    "ext, tot"
   ]
  },
  {
   "cell_type": "code",
   "execution_count": 24,
   "metadata": {},
   "outputs": [
    {
     "data": {
      "text/plain": [
       "([13, 130, 23, 37, 232, 153, 53], [34, 91, 22, 70, 305, 69, 33])"
      ]
     },
     "execution_count": 24,
     "metadata": {},
     "output_type": "execute_result"
    }
   ],
   "source": [
    "next_chat_list[2][6], next_chat_list[6][2]"
   ]
  },
  {
   "cell_type": "code",
   "execution_count": 25,
   "metadata": {},
   "outputs": [
    {
     "data": {
      "text/plain": [
       "(array([642]), array([583]))"
      ]
     },
     "execution_count": 25,
     "metadata": {},
     "output_type": "execute_result"
    }
   ],
   "source": [
    "np.dot(next_chat_list[2][6], emotion_weight), np.dot(next_chat_list[6][2], emotion_weight)"
   ]
  },
  {
   "cell_type": "code",
   "execution_count": 26,
   "metadata": {},
   "outputs": [
    {
     "data": {
      "text/plain": [
       "([[398, 1220, 253, 823, 4858, 1489, 517],\n",
       "  [356, 1393, 347, 1055, 5454, 1313, 496]],\n",
       " [9558, 10414])"
      ]
     },
     "execution_count": 26,
     "metadata": {},
     "output_type": "execute_result"
    }
   ],
   "source": [
    "ext = [res[59], res[2]]\n",
    "tot = []\n",
    "\n",
    "for i in ext:\n",
    "    sum = 0\n",
    "    for j in i:\n",
    "        sum += j\n",
    "    tot.append(sum)\n",
    "ext, tot"
   ]
  },
  {
   "cell_type": "code",
   "execution_count": 27,
   "metadata": {},
   "outputs": [
    {
     "data": {
      "text/plain": [
       "([10, 36, 4, 33, 143, 37, 17], [19, 46, 11, 39, 189, 39, 20])"
      ]
     },
     "execution_count": 27,
     "metadata": {},
     "output_type": "execute_result"
    }
   ],
   "source": [
    "next_chat_list[2][59], next_chat_list[59][2]"
   ]
  },
  {
   "cell_type": "code",
   "execution_count": 28,
   "metadata": {},
   "outputs": [
    {
     "data": {
      "text/plain": [
       "(array([275]), array([340]))"
      ]
     },
     "execution_count": 28,
     "metadata": {},
     "output_type": "execute_result"
    }
   ],
   "source": [
    "np.dot(next_chat_list[2][59], emotion_weight), np.dot(next_chat_list[59][2], emotion_weight)"
   ]
  },
  {
   "cell_type": "code",
   "execution_count": 29,
   "metadata": {},
   "outputs": [
    {
     "data": {
      "image/png": "[encoded data removed]",
      "text/plain": [
       "<Figure size 288x288 with 1 Axes>"
      ]
     },
     "metadata": {
      "needs_background": "light"
     },
     "output_type": "display_data"
    }
   ],
   "source": [
    "plt.figure(figsize=(4,4))\n",
    "plt.bar(0, np.dot(next_chat_list[2][59], emotion_weight))\n",
    "plt.bar(1, np.dot(next_chat_list[59][2], emotion_weight))\n",
    "plt.grid(axis='y')"
   ]
  }
 ],
 "metadata": {
  "interpreter": {
   "hash": "e47733dae5d843d2eb72fe4c3b10f7ff7bdbfd472b67086abca35bd19fbf674b"
  },
  "kernelspec": {
   "display_name": "Python 3.7.11 64-bit ('kakao': conda)",
   "language": "python",
   "name": "python3"
  },
  "language_info": {
   "codemirror_mode": {
    "name": "ipython",
    "version": 3
   },
   "file_extension": ".py",
   "mimetype": "text/x-python",
   "name": "python",
   "nbconvert_exporter": "python",
   "pygments_lexer": "ipython3",
   "version": "3.7.11"
  },
  "orig_nbformat": 4
 },
 "nbformat": 4,
 "nbformat_minor": 2
}
