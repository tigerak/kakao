{
 "cells": [
  {
   "cell_type": "markdown",
   "metadata": {},
   "source": [
    "# Cuda"
   ]
  },
  {
   "cell_type": "code",
   "execution_count": 1,
   "metadata": {},
   "outputs": [
    {
     "name": "stdout",
     "output_type": "stream",
     "text": [
      "Looking in links: https://download.pytorch.org/whl/torch_stable.html\n",
      "Collecting torch==1.7.1+cu110\n",
      "  Using cached https://download.pytorch.org/whl/cu110/torch-1.7.1%2Bcu110-cp37-cp37m-win_amd64.whl (2050.2 MB)\n",
      "Collecting torchvision==0.8.2+cu110\n",
      "  Using cached https://download.pytorch.org/whl/cu110/torchvision-0.8.2%2Bcu110-cp37-cp37m-win_amd64.whl (1.6 MB)\n",
      "Collecting torchaudio==0.7.2\n",
      "  Using cached https://download.pytorch.org/whl/torchaudio-0.7.2-cp37-none-win_amd64.whl (103 kB)\n",
      "Collecting numpy\n",
      "  Using cached numpy-1.21.4-cp37-cp37m-win_amd64.whl (14.0 MB)\n",
      "Requirement already satisfied: typing-extensions in c:\\users\\tiger\\anaconda3\\envs\\kakao\\lib\\site-packages (from torch==1.7.1+cu110) (4.0.0)\n",
      "Collecting pillow>=4.1.1\n",
      "  Using cached Pillow-8.4.0-cp37-cp37m-win_amd64.whl (3.2 MB)\n",
      "Installing collected packages: numpy, torch, pillow, torchvision, torchaudio\n",
      "Successfully installed numpy-1.21.4 pillow-8.4.0 torch-1.7.1+cu110 torchaudio-0.7.2 torchvision-0.8.2+cu110\n"
     ]
    }
   ],
   "source": [
    "!pip install torch==1.7.1+cu110 torchvision==0.8.2+cu110 torchaudio==0.7.2 -f https://download.pytorch.org/whl/torch_stable.html"
   ]
  },
  {
   "cell_type": "markdown",
   "metadata": {},
   "source": [
    "# 기타 필수"
   ]
  },
  {
   "cell_type": "code",
   "execution_count": 2,
   "metadata": {},
   "outputs": [
    {
     "name": "stdout",
     "output_type": "stream",
     "text": [
      "Collecting matplotlib\n",
      "  Using cached matplotlib-3.5.0-cp37-cp37m-win_amd64.whl (7.2 MB)\n",
      "Collecting fonttools>=4.22.0\n",
      "  Using cached fonttools-4.28.2-py3-none-any.whl (880 kB)\n",
      "Collecting pyparsing>=2.2.1\n",
      "  Using cached pyparsing-3.0.6-py3-none-any.whl (97 kB)\n",
      "Requirement already satisfied: python-dateutil>=2.7 in c:\\users\\tiger\\anaconda3\\envs\\kakao\\lib\\site-packages (from matplotlib) (2.8.2)\n",
      "Collecting cycler>=0.10\n",
      "  Using cached cycler-0.11.0-py3-none-any.whl (6.4 kB)\n",
      "Requirement already satisfied: pillow>=6.2.0 in c:\\users\\tiger\\anaconda3\\envs\\kakao\\lib\\site-packages (from matplotlib) (8.4.0)\n",
      "Collecting kiwisolver>=1.0.1\n",
      "  Using cached kiwisolver-1.3.2-cp37-cp37m-win_amd64.whl (51 kB)\n",
      "Requirement already satisfied: numpy>=1.17 in c:\\users\\tiger\\anaconda3\\envs\\kakao\\lib\\site-packages (from matplotlib) (1.21.4)\n",
      "Collecting setuptools-scm>=4\n",
      "  Using cached setuptools_scm-6.3.2-py3-none-any.whl (33 kB)\n",
      "Collecting packaging>=20.0\n",
      "  Using cached packaging-21.3-py3-none-any.whl (40 kB)\n",
      "Requirement already satisfied: six>=1.5 in c:\\users\\tiger\\anaconda3\\envs\\kakao\\lib\\site-packages (from python-dateutil>=2.7->matplotlib) (1.16.0)\n",
      "Requirement already satisfied: setuptools in c:\\users\\tiger\\anaconda3\\envs\\kakao\\lib\\site-packages (from setuptools-scm>=4->matplotlib) (58.0.4)\n",
      "Collecting tomli>=1.0.0\n",
      "  Using cached tomli-1.2.2-py3-none-any.whl (12 kB)\n",
      "Installing collected packages: pyparsing, tomli, packaging, setuptools-scm, kiwisolver, fonttools, cycler, matplotlib\n",
      "Successfully installed cycler-0.11.0 fonttools-4.28.2 kiwisolver-1.3.2 matplotlib-3.5.0 packaging-21.3 pyparsing-3.0.6 setuptools-scm-6.3.2 tomli-1.2.2\n",
      "Collecting seaborn\n",
      "  Using cached seaborn-0.11.2-py3-none-any.whl (292 kB)\n",
      "Collecting pandas>=0.23\n",
      "  Using cached pandas-1.3.4-cp37-cp37m-win_amd64.whl (10.0 MB)\n",
      "Requirement already satisfied: numpy>=1.15 in c:\\users\\tiger\\anaconda3\\envs\\kakao\\lib\\site-packages (from seaborn) (1.21.4)\n",
      "Collecting scipy>=1.0\n",
      "  Using cached scipy-1.7.3-cp37-cp37m-win_amd64.whl (34.1 MB)\n",
      "Requirement already satisfied: matplotlib>=2.2 in c:\\users\\tiger\\anaconda3\\envs\\kakao\\lib\\site-packages (from seaborn) (3.5.0)\n",
      "Requirement already satisfied: setuptools-scm>=4 in c:\\users\\tiger\\anaconda3\\envs\\kakao\\lib\\site-packages (from matplotlib>=2.2->seaborn) (6.3.2)\n",
      "Requirement already satisfied: packaging>=20.0 in c:\\users\\tiger\\anaconda3\\envs\\kakao\\lib\\site-packages (from matplotlib>=2.2->seaborn) (21.3)\n",
      "Requirement already satisfied: kiwisolver>=1.0.1 in c:\\users\\tiger\\anaconda3\\envs\\kakao\\lib\\site-packages (from matplotlib>=2.2->seaborn) (1.3.2)\n",
      "Requirement already satisfied: cycler>=0.10 in c:\\users\\tiger\\anaconda3\\envs\\kakao\\lib\\site-packages (from matplotlib>=2.2->seaborn) (0.11.0)\n",
      "Requirement already satisfied: python-dateutil>=2.7 in c:\\users\\tiger\\anaconda3\\envs\\kakao\\lib\\site-packages (from matplotlib>=2.2->seaborn) (2.8.2)\n",
      "Requirement already satisfied: pyparsing>=2.2.1 in c:\\users\\tiger\\anaconda3\\envs\\kakao\\lib\\site-packages (from matplotlib>=2.2->seaborn) (3.0.6)\n",
      "Requirement already satisfied: pillow>=6.2.0 in c:\\users\\tiger\\anaconda3\\envs\\kakao\\lib\\site-packages (from matplotlib>=2.2->seaborn) (8.4.0)\n",
      "Requirement already satisfied: fonttools>=4.22.0 in c:\\users\\tiger\\anaconda3\\envs\\kakao\\lib\\site-packages (from matplotlib>=2.2->seaborn) (4.28.2)\n",
      "Collecting pytz>=2017.3\n",
      "  Using cached pytz-2021.3-py2.py3-none-any.whl (503 kB)\n",
      "Requirement already satisfied: six>=1.5 in c:\\users\\tiger\\anaconda3\\envs\\kakao\\lib\\site-packages (from python-dateutil>=2.7->matplotlib>=2.2->seaborn) (1.16.0)\n",
      "Requirement already satisfied: tomli>=1.0.0 in c:\\users\\tiger\\anaconda3\\envs\\kakao\\lib\\site-packages (from setuptools-scm>=4->matplotlib>=2.2->seaborn) (1.2.2)\n",
      "Requirement already satisfied: setuptools in c:\\users\\tiger\\anaconda3\\envs\\kakao\\lib\\site-packages (from setuptools-scm>=4->matplotlib>=2.2->seaborn) (58.0.4)\n",
      "Installing collected packages: pytz, scipy, pandas, seaborn\n",
      "Successfully installed pandas-1.3.4 pytz-2021.3 scipy-1.7.3 seaborn-0.11.2\n",
      "Requirement already satisfied: numpy in c:\\users\\tiger\\anaconda3\\envs\\kakao\\lib\\site-packages (1.21.4)\n",
      "Requirement already satisfied: pandas in c:\\users\\tiger\\anaconda3\\envs\\kakao\\lib\\site-packages (1.3.4)\n",
      "Requirement already satisfied: numpy>=1.17.3 in c:\\users\\tiger\\anaconda3\\envs\\kakao\\lib\\site-packages (from pandas) (1.21.4)\n",
      "Requirement already satisfied: python-dateutil>=2.7.3 in c:\\users\\tiger\\anaconda3\\envs\\kakao\\lib\\site-packages (from pandas) (2.8.2)\n",
      "Requirement already satisfied: pytz>=2017.3 in c:\\users\\tiger\\anaconda3\\envs\\kakao\\lib\\site-packages (from pandas) (2021.3)\n",
      "Requirement already satisfied: six>=1.5 in c:\\users\\tiger\\anaconda3\\envs\\kakao\\lib\\site-packages (from python-dateutil>=2.7.3->pandas) (1.16.0)\n",
      "Collecting sklearn\n",
      "  Using cached sklearn-0.0-py2.py3-none-any.whl\n",
      "Collecting scikit-learn\n",
      "  Using cached scikit_learn-1.0.1-cp37-cp37m-win_amd64.whl (7.2 MB)\n",
      "Requirement already satisfied: numpy>=1.14.6 in c:\\users\\tiger\\anaconda3\\envs\\kakao\\lib\\site-packages (from scikit-learn->sklearn) (1.21.4)\n",
      "Collecting threadpoolctl>=2.0.0\n",
      "  Using cached threadpoolctl-3.0.0-py3-none-any.whl (14 kB)\n",
      "Requirement already satisfied: scipy>=1.1.0 in c:\\users\\tiger\\anaconda3\\envs\\kakao\\lib\\site-packages (from scikit-learn->sklearn) (1.7.3)\n",
      "Collecting joblib>=0.11\n",
      "  Using cached joblib-1.1.0-py2.py3-none-any.whl (306 kB)\n",
      "Installing collected packages: threadpoolctl, joblib, scikit-learn, sklearn\n",
      "Successfully installed joblib-1.1.0 scikit-learn-1.0.1 sklearn-0.0 threadpoolctl-3.0.0\n"
     ]
    }
   ],
   "source": [
    "!pip install matplotlib\n",
    "!pip install seaborn\n",
    "\n",
    "!pip install numpy==1.17.3\n",
    "!pip install pandas\n",
    "\n",
    "!pip install sklearn"
   ]
  },
  {
   "cell_type": "code",
   "execution_count": 3,
   "metadata": {},
   "outputs": [
    {
     "name": "stdout",
     "output_type": "stream",
     "text": [
      "Collecting mxnet\n",
      "  Using cached mxnet-1.7.0.post2-py2.py3-none-win_amd64.whl (33.1 MB)\n",
      "Collecting graphviz<0.9.0,>=0.8.1\n",
      "  Using cached graphviz-0.8.4-py2.py3-none-any.whl (16 kB)\n",
      "Collecting numpy<1.17.0,>=1.8.2\n",
      "  Using cached numpy-1.16.6-cp37-cp37m-win_amd64.whl (11.9 MB)\n",
      "Collecting requests<2.19.0,>=2.18.4\n",
      "  Using cached requests-2.18.4-py2.py3-none-any.whl (88 kB)\n",
      "Collecting chardet<3.1.0,>=3.0.2\n",
      "  Using cached chardet-3.0.4-py2.py3-none-any.whl (133 kB)\n",
      "Collecting urllib3<1.23,>=1.21.1\n",
      "  Using cached urllib3-1.22-py2.py3-none-any.whl (132 kB)\n",
      "Collecting idna<2.7,>=2.5\n",
      "  Using cached idna-2.6-py2.py3-none-any.whl (56 kB)\n",
      "Requirement already satisfied: certifi>=2017.4.17 in c:\\users\\tiger\\anaconda3\\envs\\kakao\\lib\\site-packages (from requests<2.19.0,>=2.18.4->mxnet) (2021.10.8)\n",
      "Installing collected packages: urllib3, idna, chardet, requests, numpy, graphviz, mxnet\n",
      "  Attempting uninstall: numpy\n",
      "    Found existing installation: numpy 1.21.4\n",
      "    Uninstalling numpy-1.21.4:\n",
      "      Successfully uninstalled numpy-1.21.4\n",
      "Successfully installed chardet-3.0.4 graphviz-0.8.4 idna-2.6 mxnet-1.7.0.post2 numpy-1.16.6 requests-2.18.4 urllib3-1.22\n"
     ]
    },
    {
     "name": "stderr",
     "output_type": "stream",
     "text": [
      "ERROR: pip's dependency resolver does not currently take into account all the packages that are installed. This behaviour is the source of the following dependency conflicts.\n",
      "pandas 1.3.4 requires numpy>=1.17.3; platform_machine != \"aarch64\" and platform_machine != \"arm64\" and python_version < \"3.10\", but you have numpy 1.16.6 which is incompatible.\n",
      "matplotlib 3.5.0 requires numpy>=1.17, but you have numpy 1.16.6 which is incompatible.\n"
     ]
    },
    {
     "name": "stdout",
     "output_type": "stream",
     "text": [
      "Collecting gluonnlp==0.8.0\n",
      "  Using cached gluonnlp-0.8.0-py3-none-any.whl\n",
      "Requirement already satisfied: numpy in c:\\users\\tiger\\anaconda3\\envs\\kakao\\lib\\site-packages (from gluonnlp==0.8.0) (1.16.6)\n",
      "Installing collected packages: gluonnlp\n",
      "Successfully installed gluonnlp-0.8.0\n",
      "Collecting sentencepiece\n",
      "  Using cached sentencepiece-0.1.96-cp37-cp37m-win_amd64.whl (1.1 MB)\n",
      "Installing collected packages: sentencepiece\n",
      "Successfully installed sentencepiece-0.1.96\n",
      "Collecting transformers==3.0.2\n",
      "  Using cached transformers-3.0.2-py3-none-any.whl (769 kB)\n",
      "Requirement already satisfied: sentencepiece!=0.1.92 in c:\\users\\tiger\\anaconda3\\envs\\kakao\\lib\\site-packages (from transformers==3.0.2) (0.1.96)\n",
      "Requirement already satisfied: requests in c:\\users\\tiger\\anaconda3\\envs\\kakao\\lib\\site-packages (from transformers==3.0.2) (2.18.4)\n",
      "Requirement already satisfied: numpy in c:\\users\\tiger\\anaconda3\\envs\\kakao\\lib\\site-packages (from transformers==3.0.2) (1.16.6)\n",
      "Requirement already satisfied: packaging in c:\\users\\tiger\\anaconda3\\envs\\kakao\\lib\\site-packages (from transformers==3.0.2) (21.3)\n",
      "Collecting regex!=2019.12.17\n",
      "  Using cached regex-2021.11.10-cp37-cp37m-win_amd64.whl (272 kB)\n",
      "Collecting tokenizers==0.8.1.rc1\n",
      "  Using cached tokenizers-0.8.1rc1-cp37-cp37m-win_amd64.whl (1.9 MB)\n",
      "Collecting sacremoses\n",
      "  Using cached sacremoses-0.0.46-py3-none-any.whl (895 kB)\n",
      "Collecting tqdm>=4.27\n",
      "  Using cached tqdm-4.62.3-py2.py3-none-any.whl (76 kB)\n",
      "Collecting filelock\n",
      "  Using cached filelock-3.4.0-py3-none-any.whl (9.8 kB)\n",
      "Requirement already satisfied: colorama in c:\\users\\tiger\\anaconda3\\envs\\kakao\\lib\\site-packages (from tqdm>=4.27->transformers==3.0.2) (0.4.4)\n",
      "Requirement already satisfied: pyparsing!=3.0.5,>=2.0.2 in c:\\users\\tiger\\anaconda3\\envs\\kakao\\lib\\site-packages (from packaging->transformers==3.0.2) (3.0.6)\n",
      "Requirement already satisfied: certifi>=2017.4.17 in c:\\users\\tiger\\anaconda3\\envs\\kakao\\lib\\site-packages (from requests->transformers==3.0.2) (2021.10.8)\n",
      "Requirement already satisfied: idna<2.7,>=2.5 in c:\\users\\tiger\\anaconda3\\envs\\kakao\\lib\\site-packages (from requests->transformers==3.0.2) (2.6)\n",
      "Requirement already satisfied: chardet<3.1.0,>=3.0.2 in c:\\users\\tiger\\anaconda3\\envs\\kakao\\lib\\site-packages (from requests->transformers==3.0.2) (3.0.4)\n",
      "Requirement already satisfied: urllib3<1.23,>=1.21.1 in c:\\users\\tiger\\anaconda3\\envs\\kakao\\lib\\site-packages (from requests->transformers==3.0.2) (1.22)\n",
      "Collecting click\n",
      "  Using cached click-8.0.3-py3-none-any.whl (97 kB)\n",
      "Requirement already satisfied: six in c:\\users\\tiger\\anaconda3\\envs\\kakao\\lib\\site-packages (from sacremoses->transformers==3.0.2) (1.16.0)\n",
      "Requirement already satisfied: joblib in c:\\users\\tiger\\anaconda3\\envs\\kakao\\lib\\site-packages (from sacremoses->transformers==3.0.2) (1.1.0)\n",
      "Requirement already satisfied: importlib-metadata in c:\\users\\tiger\\anaconda3\\envs\\kakao\\lib\\site-packages (from click->sacremoses->transformers==3.0.2) (4.8.2)\n",
      "Requirement already satisfied: typing-extensions>=3.6.4 in c:\\users\\tiger\\anaconda3\\envs\\kakao\\lib\\site-packages (from importlib-metadata->click->sacremoses->transformers==3.0.2) (4.0.0)\n",
      "Requirement already satisfied: zipp>=0.5 in c:\\users\\tiger\\anaconda3\\envs\\kakao\\lib\\site-packages (from importlib-metadata->click->sacremoses->transformers==3.0.2) (3.6.0)\n",
      "Installing collected packages: tqdm, regex, click, tokenizers, sacremoses, filelock, transformers\n",
      "Successfully installed click-8.0.3 filelock-3.4.0 regex-2021.11.10 sacremoses-0.0.46 tokenizers-0.8.1rc1 tqdm-4.62.3 transformers-3.0.2\n"
     ]
    }
   ],
   "source": [
    "!pip install mxnet-cu102\n",
    "!pip install gluonnlp==0.8.0\n",
    "!pip install sentencepiece\n",
    "!pip install transformers==3.0.2"
   ]
  },
  {
   "cell_type": "code",
   "execution_count": 7,
   "metadata": {},
   "outputs": [
    {
     "name": "stdout",
     "output_type": "stream",
     "text": [
      "Collecting openpyxl\n",
      "  Using cached openpyxl-3.0.9-py2.py3-none-any.whl (242 kB)\n",
      "Collecting et-xmlfile\n",
      "  Using cached et_xmlfile-1.1.0-py3-none-any.whl (4.7 kB)\n",
      "Installing collected packages: et-xmlfile, openpyxl\n",
      "Successfully installed et-xmlfile-1.1.0 openpyxl-3.0.9\n",
      "Collecting ipywidgets\n",
      "  Using cached ipywidgets-7.6.5-py2.py3-none-any.whl (121 kB)\n",
      "Requirement already satisfied: ipykernel>=4.5.1 in c:\\users\\tiger\\anaconda3\\envs\\kakao\\lib\\site-packages (from ipywidgets) (6.5.1)\n",
      "Requirement already satisfied: traitlets>=4.3.1 in c:\\users\\tiger\\anaconda3\\envs\\kakao\\lib\\site-packages (from ipywidgets) (5.1.1)\n",
      "Collecting ipython-genutils~=0.2.0\n",
      "  Using cached ipython_genutils-0.2.0-py2.py3-none-any.whl (26 kB)\n",
      "Collecting jupyterlab-widgets>=1.0.0\n",
      "  Using cached jupyterlab_widgets-1.0.2-py3-none-any.whl (243 kB)\n",
      "Collecting nbformat>=4.2.0\n",
      "  Using cached nbformat-5.1.3-py3-none-any.whl (178 kB)\n",
      "Collecting widgetsnbextension~=3.5.0\n",
      "  Using cached widgetsnbextension-3.5.2-py2.py3-none-any.whl (1.6 MB)\n",
      "Requirement already satisfied: ipython>=4.0.0 in c:\\users\\tiger\\anaconda3\\envs\\kakao\\lib\\site-packages (from ipywidgets) (7.30.0)\n",
      "Requirement already satisfied: debugpy<2.0,>=1.0.0 in c:\\users\\tiger\\anaconda3\\envs\\kakao\\lib\\site-packages (from ipykernel>=4.5.1->ipywidgets) (1.5.1)\n",
      "Requirement already satisfied: argcomplete>=1.12.3 in c:\\users\\tiger\\anaconda3\\envs\\kakao\\lib\\site-packages (from ipykernel>=4.5.1->ipywidgets) (1.12.3)\n",
      "Requirement already satisfied: tornado<7.0,>=4.2 in c:\\users\\tiger\\anaconda3\\envs\\kakao\\lib\\site-packages (from ipykernel>=4.5.1->ipywidgets) (6.1)\n",
      "Requirement already satisfied: jupyter-client<8.0 in c:\\users\\tiger\\anaconda3\\envs\\kakao\\lib\\site-packages (from ipykernel>=4.5.1->ipywidgets) (7.1.0)\n",
      "Requirement already satisfied: matplotlib-inline<0.2.0,>=0.1.0 in c:\\users\\tiger\\anaconda3\\envs\\kakao\\lib\\site-packages (from ipykernel>=4.5.1->ipywidgets) (0.1.3)\n",
      "Requirement already satisfied: importlib-metadata<5 in c:\\users\\tiger\\anaconda3\\envs\\kakao\\lib\\site-packages (from ipykernel>=4.5.1->ipywidgets) (4.8.2)\n",
      "Requirement already satisfied: zipp>=0.5 in c:\\users\\tiger\\anaconda3\\envs\\kakao\\lib\\site-packages (from importlib-metadata<5->ipykernel>=4.5.1->ipywidgets) (3.6.0)\n",
      "Requirement already satisfied: typing-extensions>=3.6.4 in c:\\users\\tiger\\anaconda3\\envs\\kakao\\lib\\site-packages (from importlib-metadata<5->ipykernel>=4.5.1->ipywidgets) (4.0.0)\n",
      "Requirement already satisfied: jedi>=0.16 in c:\\users\\tiger\\anaconda3\\envs\\kakao\\lib\\site-packages (from ipython>=4.0.0->ipywidgets) (0.18.1)\n",
      "Requirement already satisfied: backcall in c:\\users\\tiger\\anaconda3\\envs\\kakao\\lib\\site-packages (from ipython>=4.0.0->ipywidgets) (0.2.0)\n",
      "Requirement already satisfied: setuptools>=18.5 in c:\\users\\tiger\\anaconda3\\envs\\kakao\\lib\\site-packages (from ipython>=4.0.0->ipywidgets) (58.0.4)\n",
      "Requirement already satisfied: colorama in c:\\users\\tiger\\anaconda3\\envs\\kakao\\lib\\site-packages (from ipython>=4.0.0->ipywidgets) (0.4.4)\n",
      "Requirement already satisfied: prompt-toolkit!=3.0.0,!=3.0.1,<3.1.0,>=2.0.0 in c:\\users\\tiger\\anaconda3\\envs\\kakao\\lib\\site-packages (from ipython>=4.0.0->ipywidgets) (3.0.23)\n",
      "Requirement already satisfied: pickleshare in c:\\users\\tiger\\anaconda3\\envs\\kakao\\lib\\site-packages (from ipython>=4.0.0->ipywidgets) (0.7.5)\n",
      "Requirement already satisfied: pygments in c:\\users\\tiger\\anaconda3\\envs\\kakao\\lib\\site-packages (from ipython>=4.0.0->ipywidgets) (2.10.0)\n",
      "Requirement already satisfied: decorator in c:\\users\\tiger\\anaconda3\\envs\\kakao\\lib\\site-packages (from ipython>=4.0.0->ipywidgets) (5.1.0)\n",
      "Requirement already satisfied: parso<0.9.0,>=0.8.0 in c:\\users\\tiger\\anaconda3\\envs\\kakao\\lib\\site-packages (from jedi>=0.16->ipython>=4.0.0->ipywidgets) (0.8.2)\n",
      "Requirement already satisfied: pyzmq>=13 in c:\\users\\tiger\\anaconda3\\envs\\kakao\\lib\\site-packages (from jupyter-client<8.0->ipykernel>=4.5.1->ipywidgets) (22.3.0)\n",
      "Requirement already satisfied: python-dateutil>=2.1 in c:\\users\\tiger\\anaconda3\\envs\\kakao\\lib\\site-packages (from jupyter-client<8.0->ipykernel>=4.5.1->ipywidgets) (2.8.2)\n",
      "Requirement already satisfied: jupyter-core>=4.6.0 in c:\\users\\tiger\\anaconda3\\envs\\kakao\\lib\\site-packages (from jupyter-client<8.0->ipykernel>=4.5.1->ipywidgets) (4.9.1)\n",
      "Requirement already satisfied: entrypoints in c:\\users\\tiger\\anaconda3\\envs\\kakao\\lib\\site-packages (from jupyter-client<8.0->ipykernel>=4.5.1->ipywidgets) (0.3)\n",
      "Requirement already satisfied: nest-asyncio>=1.5 in c:\\users\\tiger\\anaconda3\\envs\\kakao\\lib\\site-packages (from jupyter-client<8.0->ipykernel>=4.5.1->ipywidgets) (1.5.1)\n",
      "Requirement already satisfied: pywin32>=1.0 in c:\\users\\tiger\\anaconda3\\envs\\kakao\\lib\\site-packages (from jupyter-core>=4.6.0->jupyter-client<8.0->ipykernel>=4.5.1->ipywidgets) (302)\n",
      "Collecting jsonschema!=2.5.0,>=2.4\n",
      "  Using cached jsonschema-4.2.1-py3-none-any.whl (69 kB)\n",
      "Collecting attrs>=17.4.0\n",
      "  Using cached attrs-21.2.0-py2.py3-none-any.whl (53 kB)\n",
      "Collecting pyrsistent!=0.17.0,!=0.17.1,!=0.17.2,>=0.14.0\n",
      "  Using cached pyrsistent-0.18.0-cp37-cp37m-win_amd64.whl (62 kB)\n",
      "Collecting importlib-resources>=1.4.0\n",
      "  Using cached importlib_resources-5.4.0-py3-none-any.whl (28 kB)\n",
      "Requirement already satisfied: wcwidth in c:\\users\\tiger\\anaconda3\\envs\\kakao\\lib\\site-packages (from prompt-toolkit!=3.0.0,!=3.0.1,<3.1.0,>=2.0.0->ipython>=4.0.0->ipywidgets) (0.2.5)\n",
      "Requirement already satisfied: six>=1.5 in c:\\users\\tiger\\anaconda3\\envs\\kakao\\lib\\site-packages (from python-dateutil>=2.1->jupyter-client<8.0->ipykernel>=4.5.1->ipywidgets) (1.16.0)\n",
      "Collecting notebook>=4.4.1\n",
      "  Using cached notebook-6.4.6-py3-none-any.whl (9.9 MB)\n",
      "Collecting prometheus-client\n",
      "  Using cached prometheus_client-0.12.0-py2.py3-none-any.whl (57 kB)\n",
      "Collecting Send2Trash>=1.8.0\n",
      "  Using cached Send2Trash-1.8.0-py3-none-any.whl (18 kB)\n",
      "Collecting nbconvert\n",
      "  Using cached nbconvert-6.3.0-py3-none-any.whl (556 kB)\n",
      "Collecting jinja2\n",
      "  Using cached Jinja2-3.0.3-py3-none-any.whl (133 kB)\n",
      "Collecting argon2-cffi\n",
      "  Using cached argon2_cffi-21.1.0-cp35-abi3-win_amd64.whl (40 kB)\n",
      "Collecting terminado>=0.8.3\n",
      "  Using cached terminado-0.12.1-py3-none-any.whl (15 kB)\n",
      "Collecting pywinpty>=1.1.0\n",
      "  Using cached pywinpty-1.1.6-cp37-none-win_amd64.whl (1.4 MB)\n",
      "Collecting cffi>=1.0.0\n",
      "  Using cached cffi-1.15.0-cp37-cp37m-win_amd64.whl (179 kB)\n",
      "Collecting pycparser\n",
      "  Using cached pycparser-2.21-py2.py3-none-any.whl (118 kB)\n",
      "Collecting MarkupSafe>=2.0\n",
      "  Using cached MarkupSafe-2.0.1-cp37-cp37m-win_amd64.whl (14 kB)\n",
      "Collecting bleach\n",
      "  Using cached bleach-4.1.0-py2.py3-none-any.whl (157 kB)\n",
      "Collecting nbclient<0.6.0,>=0.5.0\n",
      "  Using cached nbclient-0.5.9-py3-none-any.whl (69 kB)\n",
      "Collecting mistune<2,>=0.8.1\n",
      "  Using cached mistune-0.8.4-py2.py3-none-any.whl (16 kB)\n",
      "Collecting pandocfilters>=1.4.1\n",
      "  Using cached pandocfilters-1.5.0-py2.py3-none-any.whl (8.7 kB)\n",
      "Collecting defusedxml\n",
      "  Using cached defusedxml-0.7.1-py2.py3-none-any.whl (25 kB)\n",
      "Collecting jupyterlab-pygments\n",
      "  Using cached jupyterlab_pygments-0.1.2-py2.py3-none-any.whl (4.6 kB)\n",
      "Collecting testpath\n",
      "  Using cached testpath-0.5.0-py3-none-any.whl (84 kB)\n",
      "Requirement already satisfied: packaging in c:\\users\\tiger\\anaconda3\\envs\\kakao\\lib\\site-packages (from bleach->nbconvert->notebook>=4.4.1->widgetsnbextension~=3.5.0->ipywidgets) (21.3)\n",
      "Collecting webencodings\n",
      "  Using cached webencodings-0.5.1-py2.py3-none-any.whl (11 kB)\n",
      "Requirement already satisfied: pyparsing!=3.0.5,>=2.0.2 in c:\\users\\tiger\\anaconda3\\envs\\kakao\\lib\\site-packages (from packaging->bleach->nbconvert->notebook>=4.4.1->widgetsnbextension~=3.5.0->ipywidgets) (3.0.6)\n",
      "Installing collected packages: pyrsistent, importlib-resources, attrs, jsonschema, ipython-genutils, webencodings, pycparser, nbformat, MarkupSafe, testpath, pywinpty, pandocfilters, nbclient, mistune, jupyterlab-pygments, jinja2, defusedxml, cffi, bleach, terminado, Send2Trash, prometheus-client, nbconvert, argon2-cffi, notebook, widgetsnbextension, jupyterlab-widgets, ipywidgets\n",
      "Successfully installed MarkupSafe-2.0.1 Send2Trash-1.8.0 argon2-cffi-21.1.0 attrs-21.2.0 bleach-4.1.0 cffi-1.15.0 defusedxml-0.7.1 importlib-resources-5.4.0 ipython-genutils-0.2.0 ipywidgets-7.6.5 jinja2-3.0.3 jsonschema-4.2.1 jupyterlab-pygments-0.1.2 jupyterlab-widgets-1.0.2 mistune-0.8.4 nbclient-0.5.9 nbconvert-6.3.0 nbformat-5.1.3 notebook-6.4.6 pandocfilters-1.5.0 prometheus-client-0.12.0 pycparser-2.21 pyrsistent-0.18.0 pywinpty-1.1.6 terminado-0.12.1 testpath-0.5.0 webencodings-0.5.1 widgetsnbextension-3.5.2\n"
     ]
    }
   ],
   "source": [
    "!pip install openpyxl\n",
    "!pip install ipywidgets"
   ]
  },
  {
   "cell_type": "markdown",
   "metadata": {},
   "source": [
    "# 깃허브에서 KoBERT 파일 로드"
   ]
  },
  {
   "cell_type": "code",
   "execution_count": 8,
   "metadata": {},
   "outputs": [
    {
     "name": "stdout",
     "output_type": "stream",
     "text": [
      "Collecting git+https://****@github.com/SKTBrain/KoBERT.git@master\n",
      "  Cloning https://****@github.com/SKTBrain/KoBERT.git (to revision master) to c:\\users\\tiger\\appdata\\local\\temp\\pip-req-build-17uw5e87\n",
      "  Resolved https://****@github.com/SKTBrain/KoBERT.git to commit 8df69ec6b588ae661bef98d28ec29448482bbe6e\n",
      "Building wheels for collected packages: kobert\n",
      "  Building wheel for kobert (setup.py): started\n",
      "  Building wheel for kobert (setup.py): finished with status 'done'\n",
      "  Created wheel for kobert: filename=kobert-0.1.2-py3-none-any.whl size=12835 sha256=cf4c5d491e2b5b21f803c3e8df2f05c92a75b9346c582f267308aed33057a510\n",
      "  Stored in directory: C:\\Users\\Tiger\\AppData\\Local\\Temp\\pip-ephem-wheel-cache-5b2q2acg\\wheels\\d3\\68\\ca\\334747dfb038313b49cf71f84832a33372f3470d9ddfd051c0\n",
      "Successfully built kobert\n",
      "Installing collected packages: kobert\n",
      "Successfully installed kobert-0.1.2\n"
     ]
    },
    {
     "name": "stderr",
     "output_type": "stream",
     "text": [
      "  Running command git clone -q 'https://****@github.com/SKTBrain/KoBERT.git' 'C:\\Users\\Tiger\\AppData\\Local\\Temp\\pip-req-build-17uw5e87'\n"
     ]
    }
   ],
   "source": [
    "!pip install git+https://git@github.com/SKTBrain/KoBERT.git@master"
   ]
  },
  {
   "cell_type": "code",
   "execution_count": null,
   "metadata": {},
   "outputs": [],
   "source": []
  }
 ],
 "metadata": {
  "interpreter": {
   "hash": "e47733dae5d843d2eb72fe4c3b10f7ff7bdbfd472b67086abca35bd19fbf674b"
  },
  "kernelspec": {
   "display_name": "Python 3.7.11 64-bit ('kakao': conda)",
   "language": "python",
   "name": "python3"
  },
  "language_info": {
   "codemirror_mode": {
    "name": "ipython",
    "version": 3
   },
   "file_extension": ".py",
   "mimetype": "text/x-python",
   "name": "python",
   "nbconvert_exporter": "python",
   "pygments_lexer": "ipython3",
   "version": "3.7.11"
  },
  "orig_nbformat": 4
 },
 "nbformat": 4,
 "nbformat_minor": 2
}
